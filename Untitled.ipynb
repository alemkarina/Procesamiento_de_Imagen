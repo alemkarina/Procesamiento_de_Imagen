{
 "cells": [
  {
   "cell_type": "code",
   "execution_count": null,
   "id": "ada79db8-4433-4db1-a7a2-05077fdd3543",
   "metadata": {},
   "outputs": [],
   "source": []
  },
  {
   "cell_type": "code",
   "execution_count": null,
   "id": "03f458a4-bec8-45d4-a791-a8cf7d265a96",
   "metadata": {},
   "outputs": [],
   "source": []
  },
  {
   "cell_type": "code",
   "execution_count": null,
   "id": "11288126-c83d-45de-bffc-32c429ed3d31",
   "metadata": {},
   "outputs": [],
   "source": []
  },
  {
   "cell_type": "code",
   "execution_count": 1,
   "id": "15121ed7-fa8a-45c9-bd70-e6efd6b9a558",
   "metadata": {},
   "outputs": [],
   "source": [
    "#!pip install fiftyone"
   ]
  },
  {
   "cell_type": "code",
   "execution_count": 2,
   "id": "7224b411-e10b-4bf1-a5e1-5d49fb51abba",
   "metadata": {},
   "outputs": [],
   "source": [
    "#!pip install torch torchvision"
   ]
  },
  {
   "cell_type": "markdown",
   "id": "2d4a2f1c-800c-4346-bfdf-3152c9ed4fb0",
   "metadata": {},
   "source": [
    "También necesitaremos pytorch y torchvision, además de clonar el repositorio de Torchvision GitHub para usar las utilidades de capacitación y evaluación provistas para el Tutorial de detección de objetos de Torchvision que estamos usando para entrenar un modelo básico de detección de objetos."
   ]
  },
  {
   "cell_type": "code",
   "execution_count": 3,
   "id": "e0ae5f0b-ed2d-475f-8d5e-ffb59319d100",
   "metadata": {},
   "outputs": [
    {
     "name": "stderr",
     "output_type": "stream",
     "text": [
      "UsageError: Cell magic `%%shell` not found.\n"
     ]
    }
   ],
   "source": [
    "%%shell\n",
    "\n",
    "# Download TorchVision repo to use some files from\n",
    "# references/detection\n",
    "git clone https://github.com/pytorch/vision.git\n",
    "cd vision\n",
    "git checkout v0.3.0\n",
    "\n",
    "cp references/detection/utils.py ../\n",
    "cp references/detection/transforms.py ../\n",
    "cp references/detection/coco_eval.py ../\n",
    "cp references/detection/engine.py ../\n",
    "cp references/detection/coco_utils.py ../"
   ]
  },
  {
   "cell_type": "markdown",
   "id": "7e26419c-a63c-408c-8888-cd88ec56a1e3",
   "metadata": {},
   "source": [
    "En esta note, trabajaré con COCO-2017 y lo cargaré desde FiftyOne Dataset Zoo."
   ]
  },
  {
   "cell_type": "markdown",
   "id": "8a313d83-b791-47bd-a55c-e7672cc17ecb",
   "metadata": {},
   "source": [
    "https://docs.voxel51.com/user_guide/dataset_zoo/index.html"
   ]
  },
  {
   "cell_type": "code",
   "execution_count": 4,
   "id": "d7f6702c-6230-41b5-b205-5590f65fbb5a",
   "metadata": {},
   "outputs": [],
   "source": [
    "#!pip3 install torch torchvision"
   ]
  },
  {
   "cell_type": "code",
   "execution_count": 6,
   "id": "f85fd142-4932-446f-bfd6-6862b3e7ee5a",
   "metadata": {},
   "outputs": [
    {
     "ename": "ModuleNotFoundError",
     "evalue": "No module named 'torch'",
     "output_type": "error",
     "traceback": [
      "\u001b[0;31m---------------------------------------------------------------------------\u001b[0m",
      "\u001b[0;31mModuleNotFoundError\u001b[0m                       Traceback (most recent call last)",
      "\u001b[0;32m/var/folders/gc/ljg3vtjd7xb9n_fpl7cc77cm0000gn/T/ipykernel_7280/928924799.py\u001b[0m in \u001b[0;36m<module>\u001b[0;34m\u001b[0m\n\u001b[0;32m----> 1\u001b[0;31m \u001b[0;32mimport\u001b[0m \u001b[0mtorch\u001b[0m\u001b[0;34m\u001b[0m\u001b[0;34m\u001b[0m\u001b[0m\n\u001b[0m\u001b[1;32m      2\u001b[0m \u001b[0;34m\u001b[0m\u001b[0m\n\u001b[1;32m      3\u001b[0m \u001b[0mtorch\u001b[0m\u001b[0;34m.\u001b[0m\u001b[0mmanual_seed\u001b[0m\u001b[0;34m(\u001b[0m\u001b[0;36m1\u001b[0m\u001b[0;34m)\u001b[0m\u001b[0;34m\u001b[0m\u001b[0;34m\u001b[0m\u001b[0m\n",
      "\u001b[0;31mModuleNotFoundError\u001b[0m: No module named 'torch'"
     ]
    }
   ],
   "source": [
    "import torch\n",
    "\n",
    "torch.manual_seed(1)"
   ]
  },
  {
   "cell_type": "code",
   "execution_count": null,
   "id": "34bcdefe-4cf4-4603-8401-f57e8df6a5fa",
   "metadata": {},
   "outputs": [],
   "source": [
    "x = torch.rand(5, 3)\n",
    "print(x)"
   ]
  },
  {
   "cell_type": "code",
   "execution_count": null,
   "id": "8b4eb414-cf97-42d0-b628-bc92cc45ed20",
   "metadata": {},
   "outputs": [],
   "source": []
  },
  {
   "cell_type": "code",
   "execution_count": null,
   "id": "2445ddae-334c-442a-a49a-a34437d6af2e",
   "metadata": {},
   "outputs": [],
   "source": []
  },
  {
   "cell_type": "code",
   "execution_count": null,
   "id": "b7e06894-ea32-41c9-8cb8-6b634e0145e2",
   "metadata": {},
   "outputs": [],
   "source": []
  }
 ],
 "metadata": {
  "kernelspec": {
   "display_name": "Python 3 (ipykernel)",
   "language": "python",
   "name": "python3"
  },
  "language_info": {
   "codemirror_mode": {
    "name": "ipython",
    "version": 3
   },
   "file_extension": ".py",
   "mimetype": "text/x-python",
   "name": "python",
   "nbconvert_exporter": "python",
   "pygments_lexer": "ipython3",
   "version": "3.9.13"
  }
 },
 "nbformat": 4,
 "nbformat_minor": 5
}
